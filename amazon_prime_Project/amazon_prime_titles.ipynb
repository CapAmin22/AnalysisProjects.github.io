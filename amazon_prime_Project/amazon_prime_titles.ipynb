{
 "cells": [
  {
   "cell_type": "code",
   "execution_count": 2,
   "id": "cb0c6b50",
   "metadata": {},
   "outputs": [],
   "source": [
    "import warnings\n",
    "warnings.filterwarnings('ignore')\n",
    "import pandas as pd\n",
    "import numpy as np\n",
    "import matplotlib.pyplot as plt\n",
    "import seaborn as sns\n",
    "%matplotlib inline"
   ]
  },
  {
   "cell_type": "code",
   "execution_count": 3,
   "id": "0e230ebb",
   "metadata": {},
   "outputs": [
    {
     "data": {
      "text/html": [
       "<div>\n",
       "<style scoped>\n",
       "    .dataframe tbody tr th:only-of-type {\n",
       "        vertical-align: middle;\n",
       "    }\n",
       "\n",
       "    .dataframe tbody tr th {\n",
       "        vertical-align: top;\n",
       "    }\n",
       "\n",
       "    .dataframe thead th {\n",
       "        text-align: right;\n",
       "    }\n",
       "</style>\n",
       "<table border=\"1\" class=\"dataframe\">\n",
       "  <thead>\n",
       "    <tr style=\"text-align: right;\">\n",
       "      <th></th>\n",
       "      <th>show_id</th>\n",
       "      <th>type</th>\n",
       "      <th>title</th>\n",
       "      <th>director</th>\n",
       "      <th>cast</th>\n",
       "      <th>country</th>\n",
       "      <th>date_added</th>\n",
       "      <th>release_year</th>\n",
       "      <th>rating</th>\n",
       "      <th>duration</th>\n",
       "      <th>listed_in</th>\n",
       "      <th>description</th>\n",
       "    </tr>\n",
       "  </thead>\n",
       "  <tbody>\n",
       "    <tr>\n",
       "      <th>0</th>\n",
       "      <td>s1</td>\n",
       "      <td>Movie</td>\n",
       "      <td>The Grand Seduction</td>\n",
       "      <td>Don McKellar</td>\n",
       "      <td>Brendan Gleeson, Taylor Kitsch, Gordon Pinsent</td>\n",
       "      <td>Canada</td>\n",
       "      <td>March 30, 2021</td>\n",
       "      <td>2014</td>\n",
       "      <td>NaN</td>\n",
       "      <td>113 min</td>\n",
       "      <td>Comedy, Drama</td>\n",
       "      <td>A small fishing village must procure a local d...</td>\n",
       "    </tr>\n",
       "    <tr>\n",
       "      <th>1</th>\n",
       "      <td>s2</td>\n",
       "      <td>Movie</td>\n",
       "      <td>Take Care Good Night</td>\n",
       "      <td>Girish Joshi</td>\n",
       "      <td>Mahesh Manjrekar, Abhay Mahajan, Sachin Khedekar</td>\n",
       "      <td>India</td>\n",
       "      <td>March 30, 2021</td>\n",
       "      <td>2018</td>\n",
       "      <td>13+</td>\n",
       "      <td>110 min</td>\n",
       "      <td>Drama, International</td>\n",
       "      <td>A Metro Family decides to fight a Cyber Crimin...</td>\n",
       "    </tr>\n",
       "    <tr>\n",
       "      <th>2</th>\n",
       "      <td>s3</td>\n",
       "      <td>Movie</td>\n",
       "      <td>Secrets of Deception</td>\n",
       "      <td>Josh Webber</td>\n",
       "      <td>Tom Sizemore, Lorenzo Lamas, Robert LaSardo, R...</td>\n",
       "      <td>United States</td>\n",
       "      <td>March 30, 2021</td>\n",
       "      <td>2017</td>\n",
       "      <td>NaN</td>\n",
       "      <td>74 min</td>\n",
       "      <td>Action, Drama, Suspense</td>\n",
       "      <td>After a man discovers his wife is cheating on ...</td>\n",
       "    </tr>\n",
       "    <tr>\n",
       "      <th>3</th>\n",
       "      <td>s4</td>\n",
       "      <td>Movie</td>\n",
       "      <td>Pink: Staying True</td>\n",
       "      <td>Sonia Anderson</td>\n",
       "      <td>Interviews with: Pink, Adele, Beyoncé, Britney...</td>\n",
       "      <td>United States</td>\n",
       "      <td>March 30, 2021</td>\n",
       "      <td>2014</td>\n",
       "      <td>NaN</td>\n",
       "      <td>69 min</td>\n",
       "      <td>Documentary</td>\n",
       "      <td>Pink breaks the mold once again, bringing her ...</td>\n",
       "    </tr>\n",
       "    <tr>\n",
       "      <th>4</th>\n",
       "      <td>s5</td>\n",
       "      <td>Movie</td>\n",
       "      <td>Monster Maker</td>\n",
       "      <td>Giles Foster</td>\n",
       "      <td>Harry Dean Stanton, Kieran O'Brien, George Cos...</td>\n",
       "      <td>United Kingdom</td>\n",
       "      <td>March 30, 2021</td>\n",
       "      <td>1989</td>\n",
       "      <td>NaN</td>\n",
       "      <td>45 min</td>\n",
       "      <td>Drama, Fantasy</td>\n",
       "      <td>Teenage Matt Banting wants to work with a famo...</td>\n",
       "    </tr>\n",
       "  </tbody>\n",
       "</table>\n",
       "</div>"
      ],
      "text/plain": [
       "  show_id   type                 title        director   \n",
       "0      s1  Movie   The Grand Seduction    Don McKellar  \\\n",
       "1      s2  Movie  Take Care Good Night    Girish Joshi   \n",
       "2      s3  Movie  Secrets of Deception     Josh Webber   \n",
       "3      s4  Movie    Pink: Staying True  Sonia Anderson   \n",
       "4      s5  Movie         Monster Maker    Giles Foster   \n",
       "\n",
       "                                                cast         country   \n",
       "0     Brendan Gleeson, Taylor Kitsch, Gordon Pinsent          Canada  \\\n",
       "1   Mahesh Manjrekar, Abhay Mahajan, Sachin Khedekar           India   \n",
       "2  Tom Sizemore, Lorenzo Lamas, Robert LaSardo, R...   United States   \n",
       "3  Interviews with: Pink, Adele, Beyoncé, Britney...   United States   \n",
       "4  Harry Dean Stanton, Kieran O'Brien, George Cos...  United Kingdom   \n",
       "\n",
       "       date_added  release_year rating duration                listed_in   \n",
       "0  March 30, 2021          2014    NaN  113 min            Comedy, Drama  \\\n",
       "1  March 30, 2021          2018    13+  110 min     Drama, International   \n",
       "2  March 30, 2021          2017    NaN   74 min  Action, Drama, Suspense   \n",
       "3  March 30, 2021          2014    NaN   69 min              Documentary   \n",
       "4  March 30, 2021          1989    NaN   45 min           Drama, Fantasy   \n",
       "\n",
       "                                         description  \n",
       "0  A small fishing village must procure a local d...  \n",
       "1  A Metro Family decides to fight a Cyber Crimin...  \n",
       "2  After a man discovers his wife is cheating on ...  \n",
       "3  Pink breaks the mold once again, bringing her ...  \n",
       "4  Teenage Matt Banting wants to work with a famo...  "
      ]
     },
     "execution_count": 3,
     "metadata": {},
     "output_type": "execute_result"
    }
   ],
   "source": [
    "df = pd.read_csv(\"amazon_prime_titles.csv\")\n",
    "df.head()"
   ]
  },
  {
   "cell_type": "code",
   "execution_count": 4,
   "id": "e3ffe7b3",
   "metadata": {},
   "outputs": [
    {
     "data": {
      "text/plain": [
       "(9668, 12)"
      ]
     },
     "execution_count": 4,
     "metadata": {},
     "output_type": "execute_result"
    }
   ],
   "source": [
    "df.shape"
   ]
  },
  {
   "cell_type": "markdown",
   "id": "fa74a156",
   "metadata": {},
   "source": [
    "df.info()"
   ]
  },
  {
   "cell_type": "markdown",
   "id": "135a36c2",
   "metadata": {},
   "source": [
    "**Q1. Is there is a duplicate records in this dataset ? if yes, then remove them**"
   ]
  },
  {
   "cell_type": "code",
   "execution_count": 5,
   "id": "ecc921f8",
   "metadata": {},
   "outputs": [
    {
     "data": {
      "text/plain": [
       "0"
      ]
     },
     "execution_count": 5,
     "metadata": {},
     "output_type": "execute_result"
    }
   ],
   "source": [
    "df.duplicated().sum()      # if we found any dublicate date then will use \"df.drop_duplicates(inplace=True)\""
   ]
  },
  {
   "cell_type": "code",
   "execution_count": 6,
   "id": "b8e20d04",
   "metadata": {},
   "outputs": [
    {
     "data": {
      "text/plain": [
       "(9668, 12)"
      ]
     },
     "execution_count": 6,
     "metadata": {},
     "output_type": "execute_result"
    }
   ],
   "source": [
    "df.shape"
   ]
  },
  {
   "cell_type": "markdown",
   "id": "bc75c539",
   "metadata": {},
   "source": [
    "**Q2. Is there is a null values in this data ? If yes then show it in the heatmap**"
   ]
  },
  {
   "cell_type": "code",
   "execution_count": 7,
   "id": "afab654d",
   "metadata": {},
   "outputs": [
    {
     "data": {
      "text/plain": [
       "show_id            0\n",
       "type               0\n",
       "title              0\n",
       "director        2083\n",
       "cast            1233\n",
       "country         8996\n",
       "date_added      9513\n",
       "release_year       0\n",
       "rating           337\n",
       "duration           0\n",
       "listed_in          0\n",
       "description        0\n",
       "dtype: int64"
      ]
     },
     "execution_count": 7,
     "metadata": {},
     "output_type": "execute_result"
    }
   ],
   "source": [
    "df.isnull().sum()"
   ]
  },
  {
   "cell_type": "code",
   "execution_count": 8,
   "id": "81d003bb",
   "metadata": {},
   "outputs": [
    {
     "data": {
      "image/png": "[encoded data removed]",
      "text/plain": [
       "<Figure size 640x480 with 2 Axes>"
      ]
     },
     "metadata": {},
     "output_type": "display_data"
    }
   ],
   "source": [
    "sns.heatmap(df.isnull())\n",
    "plt.show()"
   ]
  },
  {
   "cell_type": "markdown",
   "id": "6684eef2",
   "metadata": {},
   "source": [
    "**Q3. For ‘Monster Maker’ movie what is the show_id and who is the director of this movie ?**"
   ]
  },
  {
   "cell_type": "code",
   "execution_count": 9,
   "id": "f1cd2499",
   "metadata": {},
   "outputs": [
    {
     "data": {
      "text/html": [
       "<div>\n",
       "<style scoped>\n",
       "    .dataframe tbody tr th:only-of-type {\n",
       "        vertical-align: middle;\n",
       "    }\n",
       "\n",
       "    .dataframe tbody tr th {\n",
       "        vertical-align: top;\n",
       "    }\n",
       "\n",
       "    .dataframe thead th {\n",
       "        text-align: right;\n",
       "    }\n",
       "</style>\n",
       "<table border=\"1\" class=\"dataframe\">\n",
       "  <thead>\n",
       "    <tr style=\"text-align: right;\">\n",
       "      <th></th>\n",
       "      <th>show_id</th>\n",
       "      <th>title</th>\n",
       "      <th>director</th>\n",
       "    </tr>\n",
       "  </thead>\n",
       "  <tbody>\n",
       "    <tr>\n",
       "      <th>4</th>\n",
       "      <td>s5</td>\n",
       "      <td>Monster Maker</td>\n",
       "      <td>Giles Foster</td>\n",
       "    </tr>\n",
       "  </tbody>\n",
       "</table>\n",
       "</div>"
      ],
      "text/plain": [
       "  show_id          title      director\n",
       "4      s5  Monster Maker  Giles Foster"
      ]
     },
     "execution_count": 9,
     "metadata": {},
     "output_type": "execute_result"
    }
   ],
   "source": [
    "df.loc[df[\"title\"]==\"Monster Maker\",[\"show_id\",\"title\",\"director\"]]"
   ]
  },
  {
   "cell_type": "markdown",
   "id": "baaee59a",
   "metadata": {},
   "source": [
    "**Q4. In which year highest number of TV shows and movies released ? show it in the\n",
    "bar chart**"
   ]
  },
  {
   "cell_type": "code",
   "execution_count": 10,
   "id": "e6888a16",
   "metadata": {},
   "outputs": [
    {
     "data": {
      "text/plain": [
       "show_id         object\n",
       "type            object\n",
       "title           object\n",
       "director        object\n",
       "cast            object\n",
       "country         object\n",
       "date_added      object\n",
       "release_year     int64\n",
       "rating          object\n",
       "duration        object\n",
       "listed_in       object\n",
       "description     object\n",
       "dtype: object"
      ]
     },
     "execution_count": 10,
     "metadata": {},
     "output_type": "execute_result"
    }
   ],
   "source": [
    "df.dtypes # release_year column is in int64 format required to be change in date"
   ]
  },
  {
   "cell_type": "code",
   "execution_count": 11,
   "id": "dbe12204",
   "metadata": {},
   "outputs": [],
   "source": [
    "# df.release_year = pd.to_datetime(df.release_year)\n",
    "# df.release_year.dtype"
   ]
  },
  {
   "cell_type": "code",
   "execution_count": 12,
   "id": "134dea1b",
   "metadata": {},
   "outputs": [
    {
     "data": {
      "text/plain": [
       "release_year\n",
       "2021    1442\n",
       "2020     962\n",
       "2019     929\n",
       "2018     623\n",
       "2017     562\n",
       "Name: show_id, dtype: int64"
      ]
     },
     "execution_count": 12,
     "metadata": {},
     "output_type": "execute_result"
    }
   ],
   "source": [
    "results = df.groupby(df.release_year)[\"show_id\"].count().sort_values(ascending=False)\n",
    "results.head()\n",
    "# in 2021 highest number of movies and web series are released                        "
   ]
  },
  {
   "cell_type": "code",
   "execution_count": 45,
   "id": "0d17b75e",
   "metadata": {},
   "outputs": [
    {
     "data": {
      "text/plain": [
       "<Axes: xlabel='release_year'>"
      ]
     },
     "execution_count": 45,
     "metadata": {},
     "output_type": "execute_result"
    },
    {
     "data": {
      "image/png": "[encoded data removed]",
      "text/plain": [
       "<Figure size 640x480 with 1 Axes>"
      ]
     },
     "metadata": {},
     "output_type": "display_data"
    }
   ],
   "source": [
    "df.groupby(df.release_year)[\"show_id\"].count().sort_values(ascending=False).plot.bar()"
   ]
  },
  {
   "cell_type": "markdown",
   "id": "a0c45bdf",
   "metadata": {},
   "source": [
    "**Q5. How many Movies and TV series are in the dataset ? Show it in bar chart**"
   ]
  },
  {
   "cell_type": "code",
   "execution_count": 14,
   "id": "9a07247b",
   "metadata": {},
   "outputs": [
    {
     "data": {
      "text/plain": [
       "type\n",
       "Movie      7814\n",
       "TV Show    1854\n",
       "Name: count, dtype: int64"
      ]
     },
     "execution_count": 14,
     "metadata": {},
     "output_type": "execute_result"
    }
   ],
   "source": [
    "df[\"type\"].value_counts()"
   ]
  },
  {
   "cell_type": "code",
   "execution_count": 15,
   "id": "c5806b94",
   "metadata": {},
   "outputs": [
    {
     "data": {
      "text/plain": [
       "<Axes: xlabel='type'>"
      ]
     },
     "execution_count": 15,
     "metadata": {},
     "output_type": "execute_result"
    },
    {
     "data": {
      "image/png": "[encoded data removed]",
      "text/plain": [
       "<Figure size 640x480 with 1 Axes>"
      ]
     },
     "metadata": {},
     "output_type": "display_data"
    }
   ],
   "source": [
    " df[\"type\"].value_counts().plot.bar()\n",
    "# Movies are 3X as compare to webseries because web series trend has emerged\n",
    "# in recent 2-3 years"
   ]
  },
  {
   "cell_type": "markdown",
   "id": "bda01e46",
   "metadata": {},
   "source": [
    "**Q6. How many ‘movies’ are made in year 2020 ?**"
   ]
  },
  {
   "cell_type": "code",
   "execution_count": 16,
   "id": "31129989",
   "metadata": {},
   "outputs": [
    {
     "data": {
      "text/plain": [
       "962"
      ]
     },
     "execution_count": 16,
     "metadata": {},
     "output_type": "execute_result"
    }
   ],
   "source": [
    "# to check both TV Shows and Movies \n",
    "len(df[(df[\"type\"].isin([\"Movie\", \"TV Show\"])) & (df[\"release_year\"] == 2020)])"
   ]
  },
  {
   "cell_type": "code",
   "execution_count": 17,
   "id": "19e1acfc",
   "metadata": {},
   "outputs": [
    {
     "name": "stdout",
     "output_type": "stream",
     "text": [
      "736 ‘movies’ are made in year 2020\n"
     ]
    }
   ],
   "source": [
    "# to check only movies nade in 2020\n",
    "print(len(df[(df[\"type\"]==\"Movie\") & (df[\"release_year\"]==2020)]),\"‘movies’ are made in year 2020\")"
   ]
  },
  {
   "cell_type": "markdown",
   "id": "fdc87ff0",
   "metadata": {},
   "source": [
    "**Q7. How many Titles are released in India only ?**"
   ]
  },
  {
   "cell_type": "code",
   "execution_count": 18,
   "id": "7eee53cf",
   "metadata": {},
   "outputs": [
    {
     "name": "stdout",
     "output_type": "stream",
     "text": [
      "229 Titles are released in India\n"
     ]
    }
   ],
   "source": [
    "print(len(df[df[\"country\"]==\"India\"]),\"Titles are released in India\")"
   ]
  },
  {
   "cell_type": "markdown",
   "id": "9a1854a1",
   "metadata": {},
   "source": [
    "**Q8. Top 10 directors who gave highest number of movies or web series**"
   ]
  },
  {
   "cell_type": "code",
   "execution_count": 19,
   "id": "191dca6c",
   "metadata": {},
   "outputs": [
    {
     "data": {
      "text/plain": [
       "director\n",
       "Mark Knight              113\n",
       "Cannis Holder             61\n",
       "Moonbug Entertainment     37\n",
       "Jay Chapman               34\n",
       "Arthur van Merwijk        30\n",
       "Manny Rodriguez           22\n",
       "John English              20\n",
       "1                         16\n",
       "Brian Volk-Weiss          15\n",
       "Baeble Music              14\n",
       "Name: count, dtype: int64"
      ]
     },
     "execution_count": 19,
     "metadata": {},
     "output_type": "execute_result"
    }
   ],
   "source": [
    " df[\"director\"].value_counts().head(10)"
   ]
  },
  {
   "cell_type": "markdown",
   "id": "fa1c68fd",
   "metadata": {},
   "source": [
    "**Q9. Show the records where ‘category is movie’ and ‘type is comedy’ or ‘country is UK’**"
   ]
  },
  {
   "cell_type": "code",
   "execution_count": 20,
   "id": "c8878203",
   "metadata": {},
   "outputs": [
    {
     "data": {
      "text/html": [
       "<div>\n",
       "<style scoped>\n",
       "    .dataframe tbody tr th:only-of-type {\n",
       "        vertical-align: middle;\n",
       "    }\n",
       "\n",
       "    .dataframe tbody tr th {\n",
       "        vertical-align: top;\n",
       "    }\n",
       "\n",
       "    .dataframe thead th {\n",
       "        text-align: right;\n",
       "    }\n",
       "</style>\n",
       "<table border=\"1\" class=\"dataframe\">\n",
       "  <thead>\n",
       "    <tr style=\"text-align: right;\">\n",
       "      <th></th>\n",
       "      <th>show_id</th>\n",
       "      <th>type</th>\n",
       "      <th>title</th>\n",
       "      <th>director</th>\n",
       "      <th>cast</th>\n",
       "      <th>country</th>\n",
       "      <th>date_added</th>\n",
       "      <th>release_year</th>\n",
       "      <th>rating</th>\n",
       "      <th>duration</th>\n",
       "      <th>listed_in</th>\n",
       "      <th>description</th>\n",
       "    </tr>\n",
       "  </thead>\n",
       "  <tbody>\n",
       "    <tr>\n",
       "      <th>4</th>\n",
       "      <td>s5</td>\n",
       "      <td>Movie</td>\n",
       "      <td>Monster Maker</td>\n",
       "      <td>Giles Foster</td>\n",
       "      <td>Harry Dean Stanton, Kieran O'Brien, George Cos...</td>\n",
       "      <td>United Kingdom</td>\n",
       "      <td>March 30, 2021</td>\n",
       "      <td>1989</td>\n",
       "      <td>NaN</td>\n",
       "      <td>45 min</td>\n",
       "      <td>Drama, Fantasy</td>\n",
       "      <td>Teenage Matt Banting wants to work with a famo...</td>\n",
       "    </tr>\n",
       "    <tr>\n",
       "      <th>5</th>\n",
       "      <td>s6</td>\n",
       "      <td>Movie</td>\n",
       "      <td>Living With Dinosaurs</td>\n",
       "      <td>Paul Weiland</td>\n",
       "      <td>Gregory Chisholm, Juliet Stevenson, Brian Hens...</td>\n",
       "      <td>United Kingdom</td>\n",
       "      <td>March 30, 2021</td>\n",
       "      <td>1989</td>\n",
       "      <td>NaN</td>\n",
       "      <td>52 min</td>\n",
       "      <td>Fantasy, Kids</td>\n",
       "      <td>The story unfolds in a an English seaside town...</td>\n",
       "    </tr>\n",
       "    <tr>\n",
       "      <th>14</th>\n",
       "      <td>s15</td>\n",
       "      <td>Movie</td>\n",
       "      <td>Elon Musk: The Real Life Iron Man</td>\n",
       "      <td>Sonia Anderson</td>\n",
       "      <td>Elon Musk, Per Wimmer, Julie Anderson-Ankenbra...</td>\n",
       "      <td>United Kingdom</td>\n",
       "      <td>May 2, 2021</td>\n",
       "      <td>2018</td>\n",
       "      <td>NaN</td>\n",
       "      <td>74 min</td>\n",
       "      <td>Documentary</td>\n",
       "      <td>Discover the meteoric rise of Elon Musk, the m...</td>\n",
       "    </tr>\n",
       "    <tr>\n",
       "      <th>374</th>\n",
       "      <td>s375</td>\n",
       "      <td>Movie</td>\n",
       "      <td>The Zombie King</td>\n",
       "      <td>Aidan Belizaire</td>\n",
       "      <td>Edward Furlong, Corey Feldman, George McCluskey</td>\n",
       "      <td>United Kingdom</td>\n",
       "      <td>NaN</td>\n",
       "      <td>2013</td>\n",
       "      <td>16+</td>\n",
       "      <td>96 min</td>\n",
       "      <td>Comedy, Horror</td>\n",
       "      <td>After heartbroken widower Samuel makes a deal ...</td>\n",
       "    </tr>\n",
       "    <tr>\n",
       "      <th>656</th>\n",
       "      <td>s657</td>\n",
       "      <td>Movie</td>\n",
       "      <td>The Flaw</td>\n",
       "      <td>David Sington</td>\n",
       "      <td>Andrew Luan, Robert Shiller, Louis Hyman</td>\n",
       "      <td>United Kingdom</td>\n",
       "      <td>NaN</td>\n",
       "      <td>2011</td>\n",
       "      <td>13+</td>\n",
       "      <td>81 min</td>\n",
       "      <td>Special Interest</td>\n",
       "      <td>The definitive doc on the 2008 financial crash...</td>\n",
       "    </tr>\n",
       "    <tr>\n",
       "      <th>892</th>\n",
       "      <td>s893</td>\n",
       "      <td>Movie</td>\n",
       "      <td>Stick Man</td>\n",
       "      <td>Jeroen Jaspaert, Daniel Snaddon</td>\n",
       "      <td>Martin Freeman, Jennifer Saunders, Russell Tov...</td>\n",
       "      <td>United Kingdom</td>\n",
       "      <td>NaN</td>\n",
       "      <td>2015</td>\n",
       "      <td>ALL</td>\n",
       "      <td>27 min</td>\n",
       "      <td>Adventure, Animation, Kids</td>\n",
       "      <td>A half-hour animation based on the much-loved ...</td>\n",
       "    </tr>\n",
       "    <tr>\n",
       "      <th>2095</th>\n",
       "      <td>s2096</td>\n",
       "      <td>Movie</td>\n",
       "      <td>Instant Death</td>\n",
       "      <td>Ara Paiaya</td>\n",
       "      <td>Lou Ferrigno</td>\n",
       "      <td>United Kingdom</td>\n",
       "      <td>NaN</td>\n",
       "      <td>2017</td>\n",
       "      <td>18+</td>\n",
       "      <td>84 min</td>\n",
       "      <td>Action</td>\n",
       "      <td>A gang war for drug dominance draws in a distu...</td>\n",
       "    </tr>\n",
       "    <tr>\n",
       "      <th>2364</th>\n",
       "      <td>s2365</td>\n",
       "      <td>Movie</td>\n",
       "      <td>Get Duked!</td>\n",
       "      <td>Ninian Doff</td>\n",
       "      <td>Eddie Izzard, Kate Dickie, James Cosmo, Samuel...</td>\n",
       "      <td>United Kingdom</td>\n",
       "      <td>NaN</td>\n",
       "      <td>2020</td>\n",
       "      <td>16+</td>\n",
       "      <td>87 min</td>\n",
       "      <td>Adventure, Comedy</td>\n",
       "      <td>Get Duked is an anarchic, hip-hop inspired com...</td>\n",
       "    </tr>\n",
       "    <tr>\n",
       "      <th>2381</th>\n",
       "      <td>s2382</td>\n",
       "      <td>Movie</td>\n",
       "      <td>Gascoigne</td>\n",
       "      <td>Jane Preston</td>\n",
       "      <td>Paul Gascoigne, Vinnie Jones, Gary Lineker, Jo...</td>\n",
       "      <td>United Kingdom</td>\n",
       "      <td>NaN</td>\n",
       "      <td>2015</td>\n",
       "      <td>16+</td>\n",
       "      <td>87 min</td>\n",
       "      <td>Documentary</td>\n",
       "      <td>Celebrating the life and achievements of natur...</td>\n",
       "    </tr>\n",
       "    <tr>\n",
       "      <th>2534</th>\n",
       "      <td>s2535</td>\n",
       "      <td>Movie</td>\n",
       "      <td>Everybody's Game</td>\n",
       "      <td>Beno Obano</td>\n",
       "      <td>Maro Itoje, Beno Obano, Anthony Watson, Ellis ...</td>\n",
       "      <td>United Kingdom</td>\n",
       "      <td>NaN</td>\n",
       "      <td>2020</td>\n",
       "      <td>16+</td>\n",
       "      <td>53 min</td>\n",
       "      <td>Documentary</td>\n",
       "      <td>Coming from the most unlikely of rugby playing...</td>\n",
       "    </tr>\n",
       "    <tr>\n",
       "      <th>2809</th>\n",
       "      <td>s2810</td>\n",
       "      <td>Movie</td>\n",
       "      <td>Coldplay: A Head Full Of Dreams</td>\n",
       "      <td>Mat Whitecross</td>\n",
       "      <td>Guy Berryman, Jonny Buckland, Will Champion, C...</td>\n",
       "      <td>United Kingdom</td>\n",
       "      <td>NaN</td>\n",
       "      <td>2018</td>\n",
       "      <td>PG-13</td>\n",
       "      <td>105 min</td>\n",
       "      <td>Documentary, Music Videos and Concerts</td>\n",
       "      <td>Long-term Coldplay collaborator Mat Whitecross...</td>\n",
       "    </tr>\n",
       "    <tr>\n",
       "      <th>3140</th>\n",
       "      <td>s3141</td>\n",
       "      <td>Movie</td>\n",
       "      <td>Bastille - ReOrchestrated</td>\n",
       "      <td>Tom Middleton, Toby L</td>\n",
       "      <td>Bastille</td>\n",
       "      <td>United Kingdom</td>\n",
       "      <td>NaN</td>\n",
       "      <td>2021</td>\n",
       "      <td>16+</td>\n",
       "      <td>71 min</td>\n",
       "      <td>Documentary, Music Videos and Concerts</td>\n",
       "      <td>A bracingly honest new documentary sourced fro...</td>\n",
       "    </tr>\n",
       "    <tr>\n",
       "      <th>3258</th>\n",
       "      <td>s3259</td>\n",
       "      <td>Movie</td>\n",
       "      <td>Andy Murray: Resurfacing</td>\n",
       "      <td>Olivia Cappuccini</td>\n",
       "      <td>Andy Murray</td>\n",
       "      <td>United Kingdom</td>\n",
       "      <td>NaN</td>\n",
       "      <td>2019</td>\n",
       "      <td>16+</td>\n",
       "      <td>109 min</td>\n",
       "      <td>Documentary</td>\n",
       "      <td>A documentary film that tracks the tennis star...</td>\n",
       "    </tr>\n",
       "    <tr>\n",
       "      <th>3443</th>\n",
       "      <td>s3444</td>\n",
       "      <td>Movie</td>\n",
       "      <td>9/11 Phone Calls from the Towers</td>\n",
       "      <td>James Kent</td>\n",
       "      <td>Steven Mackintosh</td>\n",
       "      <td>United Kingdom</td>\n",
       "      <td>NaN</td>\n",
       "      <td>2009</td>\n",
       "      <td>16+</td>\n",
       "      <td>74 min</td>\n",
       "      <td>Documentary, Special Interest</td>\n",
       "      <td>September 11th 2001 is the most terrifying and...</td>\n",
       "    </tr>\n",
       "    <tr>\n",
       "      <th>3955</th>\n",
       "      <td>s3956</td>\n",
       "      <td>Movie</td>\n",
       "      <td>Peterloo</td>\n",
       "      <td>Mike Leigh</td>\n",
       "      <td>Rory Kinnear, Maxine Peake, Neil Bell, Philip ...</td>\n",
       "      <td>United Kingdom</td>\n",
       "      <td>NaN</td>\n",
       "      <td>2019</td>\n",
       "      <td>PG-13</td>\n",
       "      <td>154 min</td>\n",
       "      <td>Drama</td>\n",
       "      <td>Included with your Prime membership. Internati...</td>\n",
       "    </tr>\n",
       "  </tbody>\n",
       "</table>\n",
       "</div>"
      ],
      "text/plain": [
       "     show_id   type                              title   \n",
       "4         s5  Movie                      Monster Maker  \\\n",
       "5         s6  Movie              Living With Dinosaurs   \n",
       "14       s15  Movie  Elon Musk: The Real Life Iron Man   \n",
       "374     s375  Movie                    The Zombie King   \n",
       "656     s657  Movie                           The Flaw   \n",
       "892     s893  Movie                          Stick Man   \n",
       "2095   s2096  Movie                      Instant Death   \n",
       "2364   s2365  Movie                         Get Duked!   \n",
       "2381   s2382  Movie                          Gascoigne   \n",
       "2534   s2535  Movie                   Everybody's Game   \n",
       "2809   s2810  Movie    Coldplay: A Head Full Of Dreams   \n",
       "3140   s3141  Movie          Bastille - ReOrchestrated   \n",
       "3258   s3259  Movie           Andy Murray: Resurfacing   \n",
       "3443   s3444  Movie   9/11 Phone Calls from the Towers   \n",
       "3955   s3956  Movie                           Peterloo   \n",
       "\n",
       "                             director   \n",
       "4                        Giles Foster  \\\n",
       "5                        Paul Weiland   \n",
       "14                     Sonia Anderson   \n",
       "374                   Aidan Belizaire   \n",
       "656                     David Sington   \n",
       "892   Jeroen Jaspaert, Daniel Snaddon   \n",
       "2095                       Ara Paiaya   \n",
       "2364                      Ninian Doff   \n",
       "2381                     Jane Preston   \n",
       "2534                       Beno Obano   \n",
       "2809                   Mat Whitecross   \n",
       "3140            Tom Middleton, Toby L   \n",
       "3258                Olivia Cappuccini   \n",
       "3443                       James Kent   \n",
       "3955                       Mike Leigh   \n",
       "\n",
       "                                                   cast         country   \n",
       "4     Harry Dean Stanton, Kieran O'Brien, George Cos...  United Kingdom  \\\n",
       "5     Gregory Chisholm, Juliet Stevenson, Brian Hens...  United Kingdom   \n",
       "14    Elon Musk, Per Wimmer, Julie Anderson-Ankenbra...  United Kingdom   \n",
       "374     Edward Furlong, Corey Feldman, George McCluskey  United Kingdom   \n",
       "656            Andrew Luan, Robert Shiller, Louis Hyman  United Kingdom   \n",
       "892   Martin Freeman, Jennifer Saunders, Russell Tov...  United Kingdom   \n",
       "2095                                       Lou Ferrigno  United Kingdom   \n",
       "2364  Eddie Izzard, Kate Dickie, James Cosmo, Samuel...  United Kingdom   \n",
       "2381  Paul Gascoigne, Vinnie Jones, Gary Lineker, Jo...  United Kingdom   \n",
       "2534  Maro Itoje, Beno Obano, Anthony Watson, Ellis ...  United Kingdom   \n",
       "2809  Guy Berryman, Jonny Buckland, Will Champion, C...  United Kingdom   \n",
       "3140                                           Bastille  United Kingdom   \n",
       "3258                                        Andy Murray  United Kingdom   \n",
       "3443                                  Steven Mackintosh  United Kingdom   \n",
       "3955  Rory Kinnear, Maxine Peake, Neil Bell, Philip ...  United Kingdom   \n",
       "\n",
       "          date_added  release_year rating duration   \n",
       "4     March 30, 2021          1989    NaN   45 min  \\\n",
       "5     March 30, 2021          1989    NaN   52 min   \n",
       "14       May 2, 2021          2018    NaN   74 min   \n",
       "374              NaN          2013    16+   96 min   \n",
       "656              NaN          2011    13+   81 min   \n",
       "892              NaN          2015    ALL   27 min   \n",
       "2095             NaN          2017    18+   84 min   \n",
       "2364             NaN          2020    16+   87 min   \n",
       "2381             NaN          2015    16+   87 min   \n",
       "2534             NaN          2020    16+   53 min   \n",
       "2809             NaN          2018  PG-13  105 min   \n",
       "3140             NaN          2021    16+   71 min   \n",
       "3258             NaN          2019    16+  109 min   \n",
       "3443             NaN          2009    16+   74 min   \n",
       "3955             NaN          2019  PG-13  154 min   \n",
       "\n",
       "                                   listed_in   \n",
       "4                             Drama, Fantasy  \\\n",
       "5                              Fantasy, Kids   \n",
       "14                               Documentary   \n",
       "374                           Comedy, Horror   \n",
       "656                         Special Interest   \n",
       "892               Adventure, Animation, Kids   \n",
       "2095                                  Action   \n",
       "2364                       Adventure, Comedy   \n",
       "2381                             Documentary   \n",
       "2534                             Documentary   \n",
       "2809  Documentary, Music Videos and Concerts   \n",
       "3140  Documentary, Music Videos and Concerts   \n",
       "3258                             Documentary   \n",
       "3443           Documentary, Special Interest   \n",
       "3955                                   Drama   \n",
       "\n",
       "                                            description  \n",
       "4     Teenage Matt Banting wants to work with a famo...  \n",
       "5     The story unfolds in a an English seaside town...  \n",
       "14    Discover the meteoric rise of Elon Musk, the m...  \n",
       "374   After heartbroken widower Samuel makes a deal ...  \n",
       "656   The definitive doc on the 2008 financial crash...  \n",
       "892   A half-hour animation based on the much-loved ...  \n",
       "2095  A gang war for drug dominance draws in a distu...  \n",
       "2364  Get Duked is an anarchic, hip-hop inspired com...  \n",
       "2381  Celebrating the life and achievements of natur...  \n",
       "2534  Coming from the most unlikely of rugby playing...  \n",
       "2809  Long-term Coldplay collaborator Mat Whitecross...  \n",
       "3140  A bracingly honest new documentary sourced fro...  \n",
       "3258  A documentary film that tracks the tennis star...  \n",
       "3443  September 11th 2001 is the most terrifying and...  \n",
       "3955  Included with your Prime membership. Internati...  "
      ]
     },
     "execution_count": 20,
     "metadata": {},
     "output_type": "execute_result"
    }
   ],
   "source": [
    "df[(df.type==\"Movie\") & (df[\"type\"].str.contains(\"Comedy\", case=False) | (df[\"country\"]==\"United Kingdom\"))].head(15)"
   ]
  },
  {
   "cell_type": "markdown",
   "id": "b590d17b",
   "metadata": {},
   "source": [
    "**Q10. In how many movies / tv shows “salman khan” was casted ?**"
   ]
  },
  {
   "cell_type": "code",
   "execution_count": 21,
   "id": "1f3647ac",
   "metadata": {},
   "outputs": [
    {
     "data": {
      "text/plain": [
       "10"
      ]
     },
     "execution_count": 21,
     "metadata": {},
     "output_type": "execute_result"
    }
   ],
   "source": [
    "len(df[df[\"cast\"].str.contains(\"salman khan\", case=False, na=False)])"
   ]
  },
  {
   "cell_type": "markdown",
   "id": "0ce346a4",
   "metadata": {},
   "source": [
    "**Q11. What are the different Ratings provided by amazon prime ?**"
   ]
  },
  {
   "cell_type": "code",
   "execution_count": 22,
   "id": "c11cb400",
   "metadata": {},
   "outputs": [
    {
     "name": "stdout",
     "output_type": "stream",
     "text": [
      "[nan '13+' 'ALL' '18+' 'R' 'TV-Y' 'TV-Y7' 'NR' '16+' 'TV-PG' '7+' 'TV-14'\n",
      " 'TV-NR' 'TV-G' 'PG-13' 'TV-MA' 'G' 'PG' 'NC-17' 'UNRATED' '16' 'AGES_16_'\n",
      " 'AGES_18_' 'ALL_AGES' 'NOT_RATE']\n"
     ]
    }
   ],
   "source": [
    "print(df[\"rating\"].unique())"
   ]
  },
  {
   "cell_type": "markdown",
   "id": "1fc5fb91",
   "metadata": {},
   "source": [
    "**Q12. How many movies got the ‘AGES_18_’ rating in ‘india’ ?**"
   ]
  },
  {
   "cell_type": "code",
   "execution_count": 23,
   "id": "5787b989",
   "metadata": {},
   "outputs": [
    {
     "data": {
      "text/plain": [
       "20"
      ]
     },
     "execution_count": 23,
     "metadata": {},
     "output_type": "execute_result"
    }
   ],
   "source": [
    "len(df[(df[\"rating\"]=='18+') & (df[\"country\"]=='India')])"
   ]
  },
  {
   "cell_type": "markdown",
   "id": "c81695fb",
   "metadata": {},
   "source": [
    "**Q13. How many movies get ‘16+’ rating in year ‘2019’ ?**"
   ]
  },
  {
   "cell_type": "code",
   "execution_count": 24,
   "id": "764195b8",
   "metadata": {},
   "outputs": [
    {
     "data": {
      "text/plain": [
       "142"
      ]
     },
     "execution_count": 24,
     "metadata": {},
     "output_type": "execute_result"
    }
   ],
   "source": [
    "len(df[(df[\"rating\"]=='16+') & (df[\"release_year\"]==2019)])"
   ]
  },
  {
   "cell_type": "markdown",
   "id": "152a5f8d",
   "metadata": {},
   "source": [
    "**Q14. What is the max duration of Movie/Show in this dataset ?**"
   ]
  },
  {
   "cell_type": "code",
   "execution_count": 25,
   "id": "62309dc0",
   "metadata": {},
   "outputs": [
    {
     "data": {
      "text/plain": [
       "duration\n",
       "1 Season     1342\n",
       "2 Seasons     229\n",
       "90 min        223\n",
       "91 min        220\n",
       "92 min        203\n",
       "Name: count, dtype: int64"
      ]
     },
     "execution_count": 25,
     "metadata": {},
     "output_type": "execute_result"
    }
   ],
   "source": [
    "df.duration.value_counts().head()"
   ]
  },
  {
   "cell_type": "code",
   "execution_count": 26,
   "id": "7ab13bc3",
   "metadata": {},
   "outputs": [
    {
     "data": {
      "text/html": [
       "<div>\n",
       "<style scoped>\n",
       "    .dataframe tbody tr th:only-of-type {\n",
       "        vertical-align: middle;\n",
       "    }\n",
       "\n",
       "    .dataframe tbody tr th {\n",
       "        vertical-align: top;\n",
       "    }\n",
       "\n",
       "    .dataframe thead th {\n",
       "        text-align: right;\n",
       "    }\n",
       "</style>\n",
       "<table border=\"1\" class=\"dataframe\">\n",
       "  <thead>\n",
       "    <tr style=\"text-align: right;\">\n",
       "      <th></th>\n",
       "      <th>Minutes</th>\n",
       "      <th>Unit</th>\n",
       "    </tr>\n",
       "  </thead>\n",
       "  <tbody>\n",
       "    <tr>\n",
       "      <th>0</th>\n",
       "      <td>113</td>\n",
       "      <td>min</td>\n",
       "    </tr>\n",
       "    <tr>\n",
       "      <th>1</th>\n",
       "      <td>110</td>\n",
       "      <td>min</td>\n",
       "    </tr>\n",
       "    <tr>\n",
       "      <th>2</th>\n",
       "      <td>74</td>\n",
       "      <td>min</td>\n",
       "    </tr>\n",
       "    <tr>\n",
       "      <th>3</th>\n",
       "      <td>69</td>\n",
       "      <td>min</td>\n",
       "    </tr>\n",
       "    <tr>\n",
       "      <th>4</th>\n",
       "      <td>45</td>\n",
       "      <td>min</td>\n",
       "    </tr>\n",
       "  </tbody>\n",
       "</table>\n",
       "</div>"
      ],
      "text/plain": [
       "  Minutes Unit\n",
       "0     113  min\n",
       "1     110  min\n",
       "2      74  min\n",
       "3      69  min\n",
       "4      45  min"
      ]
     },
     "execution_count": 26,
     "metadata": {},
     "output_type": "execute_result"
    }
   ],
   "source": [
    "df[[\"Minutes\",\"Unit\"]] = df[\"duration\"].str.split(\" \", expand=True)\n",
    "df[[\"Minutes\",\"Unit\"]].head()"
   ]
  },
  {
   "cell_type": "code",
   "execution_count": 29,
   "id": "31c68c93",
   "metadata": {},
   "outputs": [
    {
     "data": {
      "text/plain": [
       "dtype('O')"
      ]
     },
     "execution_count": 29,
     "metadata": {},
     "output_type": "execute_result"
    }
   ],
   "source": [
    "df[\"Minutes\"].dtype"
   ]
  },
  {
   "cell_type": "code",
   "execution_count": 31,
   "id": "9012f3e7",
   "metadata": {},
   "outputs": [
    {
     "data": {
      "text/plain": [
       "dtype('int64')"
      ]
     },
     "execution_count": 31,
     "metadata": {},
     "output_type": "execute_result"
    }
   ],
   "source": [
    "df[\"Minutes\"] = df[\"Minutes\"].astype(\"int64\")\n",
    "df[\"Minutes\"].dtype"
   ]
  },
  {
   "cell_type": "code",
   "execution_count": 32,
   "id": "1ec03840",
   "metadata": {},
   "outputs": [
    {
     "name": "stdout",
     "output_type": "stream",
     "text": [
      "The max duration in this dataset is ---->>>> 601 Minutes\n"
     ]
    }
   ],
   "source": [
    "print(\"The max duration in this dataset is ---->>>>\",df[\"Minutes\"].max(),\"Minutes\")"
   ]
  },
  {
   "cell_type": "markdown",
   "id": "5611140e",
   "metadata": {},
   "source": [
    "**Q15. Which Individual Country has maximum number of TV Shows ?**"
   ]
  },
  {
   "cell_type": "code",
   "execution_count": 34,
   "id": "eb5b7171",
   "metadata": {},
   "outputs": [
    {
     "data": {
      "text/plain": [
       "country\n",
       "United States    59\n",
       "India            16\n",
       "Spain             5\n",
       "Name: count, dtype: int64"
      ]
     },
     "execution_count": 34,
     "metadata": {},
     "output_type": "execute_result"
    }
   ],
   "source": [
    "df_tv = df[df[\"type\"]==\"TV Show\"]\n",
    "df_tv[\"country\"].value_counts().sort_values(ascending=False).head(3)\n",
    "# United States has most number of TV Shows"
   ]
  },
  {
   "cell_type": "markdown",
   "id": "501b4b6a",
   "metadata": {},
   "source": [
    "**Q16. Find out the instances where category is ‘movie’ and type is ‘drama’ ?**"
   ]
  },
  {
   "cell_type": "code",
   "execution_count": 39,
   "id": "92139715",
   "metadata": {},
   "outputs": [
    {
     "data": {
      "text/html": [
       "<div>\n",
       "<style scoped>\n",
       "    .dataframe tbody tr th:only-of-type {\n",
       "        vertical-align: middle;\n",
       "    }\n",
       "\n",
       "    .dataframe tbody tr th {\n",
       "        vertical-align: top;\n",
       "    }\n",
       "\n",
       "    .dataframe thead th {\n",
       "        text-align: right;\n",
       "    }\n",
       "</style>\n",
       "<table border=\"1\" class=\"dataframe\">\n",
       "  <thead>\n",
       "    <tr style=\"text-align: right;\">\n",
       "      <th></th>\n",
       "      <th>show_id</th>\n",
       "      <th>type</th>\n",
       "      <th>title</th>\n",
       "      <th>director</th>\n",
       "      <th>cast</th>\n",
       "      <th>country</th>\n",
       "      <th>date_added</th>\n",
       "      <th>release_year</th>\n",
       "      <th>rating</th>\n",
       "      <th>duration</th>\n",
       "      <th>listed_in</th>\n",
       "      <th>description</th>\n",
       "      <th>Minutes</th>\n",
       "      <th>Unit</th>\n",
       "    </tr>\n",
       "  </thead>\n",
       "  <tbody>\n",
       "    <tr>\n",
       "      <th>9</th>\n",
       "      <td>s10</td>\n",
       "      <td>Movie</td>\n",
       "      <td>David's Mother</td>\n",
       "      <td>Robert Allan Ackerman</td>\n",
       "      <td>Kirstie Alley, Sam Waterston, Stockard Channing</td>\n",
       "      <td>United States</td>\n",
       "      <td>April 1, 2021</td>\n",
       "      <td>1994</td>\n",
       "      <td>NaN</td>\n",
       "      <td>92 min</td>\n",
       "      <td>Drama</td>\n",
       "      <td>Sally Goodson is a devoted mother to her autis...</td>\n",
       "      <td>92</td>\n",
       "      <td>min</td>\n",
       "    </tr>\n",
       "    <tr>\n",
       "      <th>24</th>\n",
       "      <td>s25</td>\n",
       "      <td>Movie</td>\n",
       "      <td>Zandalee</td>\n",
       "      <td>Sam Pillsbury</td>\n",
       "      <td>Nicolas Cage, Judge Reinhold, Erika Anderson, ...</td>\n",
       "      <td>NaN</td>\n",
       "      <td>NaN</td>\n",
       "      <td>1991</td>\n",
       "      <td>R</td>\n",
       "      <td>94 min</td>\n",
       "      <td>Drama</td>\n",
       "      <td>Zandalee has grown bored with her poet-turned-...</td>\n",
       "      <td>94</td>\n",
       "      <td>min</td>\n",
       "    </tr>\n",
       "    <tr>\n",
       "      <th>32</th>\n",
       "      <td>s33</td>\n",
       "      <td>Movie</td>\n",
       "      <td>Young Lovers</td>\n",
       "      <td>Ida Lupino</td>\n",
       "      <td>Sally Forrest, Keefe Brasselle, Hugh O'Brian, ...</td>\n",
       "      <td>NaN</td>\n",
       "      <td>NaN</td>\n",
       "      <td>1949</td>\n",
       "      <td>18+</td>\n",
       "      <td>86 min</td>\n",
       "      <td>Drama</td>\n",
       "      <td>Talented and beautiful Carol Williams (Forrest...</td>\n",
       "      <td>86</td>\n",
       "      <td>min</td>\n",
       "    </tr>\n",
       "    <tr>\n",
       "      <th>36</th>\n",
       "      <td>s37</td>\n",
       "      <td>Movie</td>\n",
       "      <td>You're Not You</td>\n",
       "      <td>George C. Wolfe</td>\n",
       "      <td>Hilary Swank, Emmy Rossum, Josh Duhamel</td>\n",
       "      <td>NaN</td>\n",
       "      <td>NaN</td>\n",
       "      <td>2015</td>\n",
       "      <td>R</td>\n",
       "      <td>103 min</td>\n",
       "      <td>Drama</td>\n",
       "      <td>A drama centered on a classical pianist who ha...</td>\n",
       "      <td>103</td>\n",
       "      <td>min</td>\n",
       "    </tr>\n",
       "    <tr>\n",
       "      <th>73</th>\n",
       "      <td>s74</td>\n",
       "      <td>Movie</td>\n",
       "      <td>Words On Bathroom Walls</td>\n",
       "      <td>Thor Freudenthal</td>\n",
       "      <td>Charlie Plummer, Taylor Russell, Andy Garcia, ...</td>\n",
       "      <td>NaN</td>\n",
       "      <td>NaN</td>\n",
       "      <td>2020</td>\n",
       "      <td>PG-13</td>\n",
       "      <td>111 min</td>\n",
       "      <td>Drama</td>\n",
       "      <td>Diagnosed with a mental illness, a witty, intr...</td>\n",
       "      <td>111</td>\n",
       "      <td>min</td>\n",
       "    </tr>\n",
       "  </tbody>\n",
       "</table>\n",
       "</div>"
      ],
      "text/plain": [
       "   show_id   type                    title               director   \n",
       "9      s10  Movie           David's Mother  Robert Allan Ackerman  \\\n",
       "24     s25  Movie                 Zandalee          Sam Pillsbury   \n",
       "32     s33  Movie             Young Lovers             Ida Lupino   \n",
       "36     s37  Movie           You're Not You        George C. Wolfe   \n",
       "73     s74  Movie  Words On Bathroom Walls       Thor Freudenthal   \n",
       "\n",
       "                                                 cast        country   \n",
       "9     Kirstie Alley, Sam Waterston, Stockard Channing  United States  \\\n",
       "24  Nicolas Cage, Judge Reinhold, Erika Anderson, ...            NaN   \n",
       "32  Sally Forrest, Keefe Brasselle, Hugh O'Brian, ...            NaN   \n",
       "36            Hilary Swank, Emmy Rossum, Josh Duhamel            NaN   \n",
       "73  Charlie Plummer, Taylor Russell, Andy Garcia, ...            NaN   \n",
       "\n",
       "       date_added  release_year rating duration listed_in   \n",
       "9   April 1, 2021          1994    NaN   92 min     Drama  \\\n",
       "24            NaN          1991      R   94 min     Drama   \n",
       "32            NaN          1949    18+   86 min     Drama   \n",
       "36            NaN          2015      R  103 min     Drama   \n",
       "73            NaN          2020  PG-13  111 min     Drama   \n",
       "\n",
       "                                          description  Minutes Unit  \n",
       "9   Sally Goodson is a devoted mother to her autis...       92  min  \n",
       "24  Zandalee has grown bored with her poet-turned-...       94  min  \n",
       "32  Talented and beautiful Carol Williams (Forrest...       86  min  \n",
       "36  A drama centered on a classical pianist who ha...      103  min  \n",
       "73  Diagnosed with a mental illness, a witty, intr...      111  min  "
      ]
     },
     "execution_count": 39,
     "metadata": {},
     "output_type": "execute_result"
    }
   ],
   "source": [
    "df[(df[\"type\"]==\"Movie\") & (df[\"listed_in\"]==\"Drama\")].head(5)"
   ]
  },
  {
   "cell_type": "code",
   "execution_count": null,
   "id": "e90b7ccf",
   "metadata": {},
   "outputs": [],
   "source": []
  }
 ],
 "metadata": {
  "kernelspec": {
   "display_name": "Python 3 (ipykernel)",
   "language": "python",
   "name": "python3"
  },
  "language_info": {
   "codemirror_mode": {
    "name": "ipython",
    "version": 3
   },
   "file_extension": ".py",
   "mimetype": "text/x-python",
   "name": "python",
   "nbconvert_exporter": "python",
   "pygments_lexer": "ipython3",
   "version": "3.11.2"
  }
 },
 "nbformat": 4,
 "nbformat_minor": 5
}
