{
 "cells": [
  {
   "cell_type": "code",
   "execution_count": 3,
   "id": "73de3beb",
   "metadata": {},
   "outputs": [],
   "source": [
    "# Import necessary libraries\n",
    "import pandas as pd\n",
    "from sqlalchemy import create_engine"
   ]
  },
  {
   "cell_type": "code",
   "execution_count": 4,
   "id": "3ebfe02a",
   "metadata": {},
   "outputs": [],
   "source": [
    "# Replace with your actual CSV file path and MySQL connection details\n",
    "csv_file_path = \"C:\\\\Users\\\\HP\\\\CSV to SQL\\\\Otodom Poland.csv\"\n",
    "mysql_username = 'root'\n",
    "mysql_password = ''\n",
    "mysql_host = 'localhost'\n",
    "mysql_port = 3306\n",
    "mysql_database = 'otodom'"
   ]
  },
  {
   "cell_type": "code",
   "execution_count": 5,
   "id": "f388abb0",
   "metadata": {},
   "outputs": [],
   "source": [
    "# Read CSV data into a pandas DataFrame\n",
    "df = pd.read_csv(csv_file_path)"
   ]
  },
  {
   "cell_type": "code",
   "execution_count": 6,
   "id": "7fd23ff2",
   "metadata": {},
   "outputs": [],
   "source": [
    "# Create a MySQL connection using SQLAlchemy\n",
    "mysql_url = f\"mysql+mysqlconnector://{mysql_username}:{mysql_password}@{mysql_host}:{mysql_port}/{mysql_database}\"\n",
    "engine = create_engine(mysql_url, echo=True)"
   ]
  },
  {
   "cell_type": "code",
   "execution_count": 7,
   "id": "4cf91de5",
   "metadata": {},
   "outputs": [
    {
     "name": "stdout",
     "output_type": "stream",
     "text": [
      "2023-08-23 10:38:03,984 INFO sqlalchemy.engine.Engine SELECT DATABASE()\n",
      "2023-08-23 10:38:03,984 INFO sqlalchemy.engine.Engine [raw sql] {}\n",
      "2023-08-23 10:38:03,989 INFO sqlalchemy.engine.Engine SELECT @@sql_mode\n",
      "2023-08-23 10:38:03,989 INFO sqlalchemy.engine.Engine [raw sql] {}\n",
      "2023-08-23 10:38:03,994 INFO sqlalchemy.engine.Engine SELECT @@lower_case_table_names\n",
      "2023-08-23 10:38:03,994 INFO sqlalchemy.engine.Engine [raw sql] {}\n",
      "2023-08-23 10:38:03,999 INFO sqlalchemy.engine.Engine BEGIN (implicit)\n",
      "2023-08-23 10:38:04,009 INFO sqlalchemy.engine.Engine DESCRIBE `otodom`.`otodom_poland`\n",
      "2023-08-23 10:38:04,009 INFO sqlalchemy.engine.Engine [raw sql] {}\n",
      "2023-08-23 10:38:04,234 INFO sqlalchemy.engine.Engine DESCRIBE `otodom`.`otodom_poland`\n",
      "2023-08-23 10:38:04,234 INFO sqlalchemy.engine.Engine [raw sql] {}\n",
      "2023-08-23 10:38:04,239 INFO sqlalchemy.engine.Engine SHOW FULL TABLES FROM `otodom`\n",
      "2023-08-23 10:38:04,239 INFO sqlalchemy.engine.Engine [raw sql] {}\n",
      "2023-08-23 10:38:04,339 INFO sqlalchemy.engine.Engine SHOW CREATE TABLE `otodom_poland`\n",
      "2023-08-23 10:38:04,339 INFO sqlalchemy.engine.Engine [raw sql] {}\n",
      "2023-08-23 10:38:04,389 INFO sqlalchemy.engine.Engine \n",
      "DROP TABLE otodom_poland\n",
      "2023-08-23 10:38:04,389 INFO sqlalchemy.engine.Engine [no key 0.00148s] {}\n",
      "2023-08-23 10:38:05,010 INFO sqlalchemy.engine.Engine \n",
      "CREATE TABLE otodom_poland (\n",
      "\ttimestamp TEXT, \n",
      "\ttitle TEXT, \n",
      "\tprice FLOAT(53), \n",
      "\tmarket TEXT, \n",
      "\tsurface FLOAT(53), \n",
      "\tlocation TEXT, \n",
      "\tremote_support BOOL, \n",
      "\tlighting FLOAT(53), \n",
      "\tadvertiser_type TEXT, \n",
      "\tdescription TEXT, \n",
      "\tno_of_rooms BIGINT, \n",
      "\tform_of_property TEXT, \n",
      "\turl TEXT, \n",
      "\tis_for_sale BOOL\n",
      ")\n",
      "\n",
      "\n",
      "2023-08-23 10:38:05,010 INFO sqlalchemy.engine.Engine [no key 0.00175s] {}\n",
      "2023-08-23 10:38:05,150 INFO sqlalchemy.engine.Engine INSERT INTO otodom_poland (timestamp, title, price, market, surface, location, remote_support, lighting, advertiser_type, description, no_of_rooms, form_of_property, url, is_for_sale) VALUES (%(timestamp)s, %(title)s, %(price)s, %(market)s, %(surface)s, %(location)s, %(remote_support)s, %(lighting)s, %(advertiser_type)s, %(description)s, %(no_of_rooms)s, %(form_of_property)s, %(url)s, %(is_for_sale)s)\n",
      "2023-08-23 10:38:05,150 INFO sqlalchemy.engine.Engine [generated in 0.01678s] [{'timestamp': '15-08-2023', 'title': '3 Pokoje+Taras 20m2 /Piękna Panorama!!!', 'price': 890000.0, 'market': 'market,primary', 'surface': 71.19, 'location': 'Śródmieście, Katowice, śląskie', 'remote_support': None, 'lighting': None, 'advertiser_type': 'agency', 'description': 'WYJĄTKOWA INWESTYCJA W ZNAKOMITEJ LOKALIZACJI !!!2 CAŁKOWICIE NIEZALEŻNE APARTAMENTY W JEDNYM !!!IDEALNY PRODUKT INWESTYCYJNY!!! ZNAJDŹ IDEALNE MIESZ ... (1809 characters truncated) ... reść niniejszego ogłoszenia nie stanowi oferty handlowej w rozumieniu Kodeksu Cywilnego.Oferta wysłana z programu dla biur nieruchomości ASARI CRM ()', 'no_of_rooms': 3, 'form_of_property': 'pełna własność', 'url': 'https://otodom.pl/pl/oferta/3-pokoje-taras-20m2-piekna-panorama-ID4mse0', 'is_for_sale': 1}, {'timestamp': '15-08-2023', 'title': 'Apartament dwupoziomowy z garażem Katowice', 'price': 862000.0, 'market': 'market,secondary', 'surface': 122.0, 'location': 'Zarzecze, Katowice, śląskie', 'remote_support': None, 'lighting': None, 'advertiser_type': 'agency', 'description': 'OFERTA NA WYŁĄCZNOŚĆ -\\r\\nOferujemy na sprzedaż dwupoziomowy apartament z garażem w Katowicach , dzielnica : Kostuchna , Zarzecze, do wprowadzenia be ... (1598 characters truncated) ... zedaż i kupno z udziałem Naszego Biura gwarantuje bezpieczną transakcję , z zachowaniem tajemnicy handlowej , rzetelność i SKUTECZNOŚĆ DZIAŁANIA.\\xa0', 'no_of_rooms': 6, 'form_of_property': 'pełna własność', 'url': 'https://otodom.pl/pl/oferta/apartament-dwupoziomowy-z-garazem-katowice-ID4mty9', 'is_for_sale': 1}, {'timestamp': '15-08-2023', 'title': 'Nowa inwestycja z widokiem na góry! 0% Pcc!', 'price': 776672.0, 'market': 'market,primary', 'surface': 74.68, 'location': 'ul. Muszlowa, Stare Bielsko, Bielsko-Biała, śląskie', 'remote_support': None, 'lighting': None, 'advertiser_type': 'agency', 'description': 'KUPNO OD DEWELOPERA, 0% prowizji, Planowany termin realizacji: III kwartał 2025LOKAL nr 1.B.2.09, balkon: 3,75 m/pełne zestawienie oferowanych mieszk ... (10774 characters truncated) ... ę jednak, aby informacje dotyczące ofert były możliwie najbardziej kompletne i aktualne.Oferta wysłana z programu dla biur nieruchomości ASARI CRM ()', 'no_of_rooms': 5, 'form_of_property': 'pełna własność', 'url': 'https://otodom.pl/pl/oferta/nowa-inwestycja-z-widokiem-na-gory-0-pcc-ID4mr9O', 'is_for_sale': 1}, {'timestamp': '15-08-2023', 'title': 'Bezczynszowe-2 poziomy,2 miejsca post. w cenie !', 'price': 650950.0, 'market': 'market,primary', 'surface': 98.6, 'location': 'ul. Słonecznikowa, Podlesie, Katowice, śląskie', 'remote_support': 1, 'lighting': None, 'advertiser_type': 'agency', 'description': '\\r\\nKATOWICE - PODLESIE.\\r\\nPiękne segmenty - MIESZKAJ BEZCZYNSZOWO ! Zamiast mieszkania kup dom w którym masz dwupoziomowy apartament z podłogowym o ... (3194 characters truncated) ... ŻANIU NIERUCHOMOŚCI !DZIAŁAMY ZAWSZE FAIR PLAY !\\r\\n\\r\\nTreść niniejszego ogłoszenia nie stanowi oferty handlowej w rozumieniu kodeksu cywilnego.\\r\\n', 'no_of_rooms': 4, 'form_of_property': 'pełna własność', 'url': 'https://otodom.pl/pl/oferta/bezczynszowe-2-poziomy-2-miejsca-post-w-cenie-ID4dwwk', 'is_for_sale': 1}, {'timestamp': '15-08-2023', 'title': 'Sea Towers apartament 3 pokoje taras/hala/komórka', 'price': 2275000.0, 'market': 'market,secondary', 'surface': 76.0, 'location': 'ul. A. Hryniewickiego, Śródmieście, Gdynia, pomorskie', 'remote_support': 1, 'lighting': None, 'advertiser_type': 'agency', 'description': 'Na sprzedaż komfortowy apartament w najbardziej prestiżowej lokalizacji Gdyni - inwestycji Sea Towers cenionego dewelopera Invest Komfort. Eleganckie ... (1116 characters truncated) ... entrum miasta, jak i jako zakup inwestycyjny w celu wynajmu krótkoterminowego.\\r\\n\\r\\nJuż dziś możesz obejrzeć nieruchomość poprzez wirtualny spacer.', 'no_of_rooms': 3, 'form_of_property': 'pełna własność', 'url': 'https://otodom.pl/pl/oferta/sea-towers-apartament-3-pokoje-taras-hala-komorka-ID4ea1u', 'is_for_sale': 1}, {'timestamp': '15-08-2023', 'title': 'Duże Mieszkanie W Centrum Katowic! Balkon!', 'price': 808000.0, 'market': 'market,secondary', 'surface': 100.02, 'location': 'ul. Jana Matejki, Śródmieście, Katowice, śląskie', 'remote_support': None, 'lighting': None, 'advertiser_type': 'agency', 'description': 'Tylko w VERITAS Nieruchomości!Przedstawiam ofertę sprzedaży mieszkania w samym Centrum Miasta Katowice! Nieruchomość znajduje się przy ulicy Matejki, ... (1793 characters truncated) ... ŚCI BIURO NIE POBIERA ŻADNYCH OPŁAT, wymagane jednak jest zawarcie umowy pośrednictwa i określenie wynagrodzenia biura w razie dojścia do transakcji.', 'no_of_rooms': 3, 'form_of_property': 'pełna własność', 'url': 'https://otodom.pl/pl/oferta/duze-mieszkanie-w-centrum-katowic-balkon-ID4lLhz', 'is_for_sale': 1}, {'timestamp': '15-08-2023', 'title': 'Lokal Inwestycyjny | Condo | Wisła | Crystal Mount', 'price': 1022096.0, 'market': 'market,secondary', 'surface': 48.62, 'location': 'ul. Bukowa, Wisła, cieszyński, śląskie', 'remote_support': None, 'lighting': None, 'advertiser_type': 'agency', 'description': 'LOKAL INWESTYCYJNY | CONDO | WISŁA | Crystal Mountain *****Crystal Mountain to pięciogwiazdkowy hotel w górach, który stanowi oryginalne połączenie n ... (728 characters truncated) ... t do zwrotu dla płatników podatku VAT.\\xa0W celu poznania szczegółów zapraszam do kontaktu.W ofercie posiadamy łącznie 3 lokale w tej inwestycji.\\xa0', 'no_of_rooms': 2, 'form_of_property': 'pełna własność', 'url': 'https://otodom.pl/pl/oferta/lokal-inwestycyjny-condo-wisla-crystal-mount-ID4mGiU', 'is_for_sale': 1}, {'timestamp': '15-08-2023', 'title': '4-pok., bezczynszowe mieszkanie w Gdyni Orłowie!', 'price': 789000.0, 'market': 'market,secondary', 'surface': 74.84, 'location': 'pl. Górnośląski, Orłowo, Gdynia, pomorskie', 'remote_support': None, 'lighting': None, 'advertiser_type': 'agency', 'description': '4- pokojowe, bez czynszowe mieszkanie (o powierzchni 74,84 mkw.) położone w samym centrum Gdyni Orłowa, przy Placu Górnośląskim.Do ceny ofertowej mie ... (2730 characters truncated) ... sze transakcje są objęte ubezpieczeniem OC w PZU.Z nami u Notariusza otrzymasz Ofertę Specjalną.Więcej podobnych ofert znajdziesz na naszej stronie: ', 'no_of_rooms': 4, 'form_of_property': 'pełna własność', 'url': 'https://otodom.pl/pl/oferta/4-pok-bezczynszowe-mieszkanie-w-gdyni-orlowie-ID4llkL', 'is_for_sale': 1}  ... displaying 10 of 1000 total bound parameter sets ...  {'timestamp': '15-08-2023', 'title': 'Bliskie Marki 95,54 m2- dwa tarasy- 5 pokoi', 'price': 759000.0, 'market': 'market,primary', 'surface': 95.54, 'location': 'Marki, wołomiński, mazowieckie', 'remote_support': None, 'lighting': None, 'advertiser_type': 'agency', 'description': 'Innowacyjny ,nowoczesny ,bezkonkurencyjny projekt obejmujący  16 mieszkań w zabudowie szeregowej.Skorzystaj z rządowego programu  Bezpieczny Kredyt d ... (1297 characters truncated) ... harakter informacyjny i nie stanowi oferty w rozumieniu art. 66 par. 1 Kodeksu CywilnegoOferta wysłana z programu dla biur nieruchomości ASARI CRM ()', 'no_of_rooms': 5, 'form_of_property': 'pełna własność', 'url': 'https://otodom.pl/pl/oferta/bliskie-marki-95-54-m2-dwa-tarasy-5-pokoi-ID4mlfr', 'is_for_sale': 1}, {'timestamp': '15-08-2023', 'title': 'Atrakcyjne mieszkanie 67 m2 w Zielonej Górze', 'price': 479000.0, 'market': 'market,secondary', 'surface': 67.0, 'location': 'ul. Powstańców Warszawy, Osiedle Słoneczne, Centrum, Zielona Góra, lubuskie', 'remote_support': None, 'lighting': None, 'advertiser_type': 'private', 'description': 'Przedstawiam Państwu ustawne mieszkanie, znajdujące się w otoczeniu zieleni na Osiedlu Słonecznym, w Zielonej Górze.\\r\\n\\r\\nMieszkanie zlokalizowane  ... (981 characters truncated) ...  meble w pokojach.\\r\\n\\r\\nMieszkanie nadaje się do zamieszkania od zaraz.\\r\\n\\xa0\\r\\nZainteresowanych zapraszam do kontaktu.\\r\\nŁukasz\\r\\n692-146-316', 'no_of_rooms': 4, 'form_of_property': 'spółdzielcze wł. prawo do lokalu', 'url': 'https://otodom.pl/pl/oferta/atrakcyjne-mieszkanie-67-m2-w-zielonej-gorze-ID4mwCm', 'is_for_sale': 1}]\n"
     ]
    },
    {
     "name": "stdout",
     "output_type": "stream",
     "text": [
      "2023-08-23 10:38:05,481 INFO sqlalchemy.engine.Engine COMMIT\n"
     ]
    },
    {
     "data": {
      "text/plain": [
       "1000"
      ]
     },
     "execution_count": 7,
     "metadata": {},
     "output_type": "execute_result"
    }
   ],
   "source": [
    "# Convert DataFrame to MySQL table\n",
    "df.to_sql(name='otodom_poland', con=engine, if_exists='replace', index=False)"
   ]
  },
  {
   "cell_type": "code",
   "execution_count": 8,
   "id": "01e01ab7",
   "metadata": {},
   "outputs": [],
   "source": [
    "# Close the database connection\n",
    "engine.dispose()"
   ]
  },
  {
   "cell_type": "code",
   "execution_count": 9,
   "id": "92052ec8",
   "metadata": {},
   "outputs": [
    {
     "name": "stdout",
     "output_type": "stream",
     "text": [
      "CSV data has been successfully imported into MySQL.\n"
     ]
    }
   ],
   "source": [
    "print(\"CSV data has been successfully imported into MySQL.\")"
   ]
  }
 ],
 "metadata": {
  "kernelspec": {
   "display_name": "Python 3 (ipykernel)",
   "language": "python",
   "name": "python3"
  },
  "language_info": {
   "codemirror_mode": {
    "name": "ipython",
    "version": 3
   },
   "file_extension": ".py",
   "mimetype": "text/x-python",
   "name": "python",
   "nbconvert_exporter": "python",
   "pygments_lexer": "ipython3",
   "version": "3.11.2"
  }
 },
 "nbformat": 4,
 "nbformat_minor": 5
}
